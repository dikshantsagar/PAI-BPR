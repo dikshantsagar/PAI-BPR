{
  "nbformat": 4,
  "nbformat_minor": 0,
  "metadata": {
    "colab": {
      "name": "PAIBPR-pytorch.ipynb",
      "provenance": [],
      "collapsed_sections": []
    },
    "kernelspec": {
      "name": "python3",
      "display_name": "Python 3"
    },
    "accelerator": "GPU"
  },
  "cells": [
    {
      "cell_type": "code",
      "metadata": {
        "id": "QjaBSlmrTe2Y",
        "colab_type": "code",
        "colab": {}
      },
      "source": [
        "from torch.nn import *\n",
        "from torch.utils.data import TensorDataset,DataLoader\n",
        "from torch.nn.functional import logsigmoid\n",
        "from torch import load, sigmoid, cat, rand, bmm, mean, matmul\n",
        "from torch.optim import Adam\n",
        "import torch"
      ],
      "execution_count": 0,
      "outputs": []
    },
    {
      "cell_type": "code",
      "metadata": {
        "id": "gsPCtBcttD9y",
        "colab_type": "code",
        "colab": {}
      },
      "source": [
        "device = torch.device('cuda' if torch.cuda.is_available() else 'cpu')"
      ],
      "execution_count": 0,
      "outputs": []
    },
    {
      "cell_type": "code",
      "metadata": {
        "id": "cCYhz5ETTqCp",
        "colab_type": "code",
        "colab": {}
      },
      "source": [
        "config = {\n",
        "    'visfeat' : '/content/drive/My Drive/Group_9/src/data/train/feat/visualfeatures',\n",
        "    'textfeat': '/content/drive/My Drive/Group_9/src/data/train/feat/textfeatures',\n",
        "    'textembedmat' : '/content/drive/My Drive/Group_9/src/data/train/feat/smallnwjc2vec',\n",
        "    'traindata' : '/content/drive/My Drive/Group_9/src/data/train/data/train.csv',\n",
        "    'testdata' : '/content/drive/My Drive/Group_9/src/data/train/data/test.csv',\n",
        "}"
      ],
      "execution_count": 0,
      "outputs": []
    },
    {
      "cell_type": "code",
      "metadata": {
        "id": "4_9Cc0ftUlJ_",
        "colab_type": "code",
        "colab": {}
      },
      "source": [
        "class BPR(Module):\n",
        "\n",
        "  def __init__(self, userset:iter, itemset:iter, hidden_dim = 512):\n",
        "    super(BPR, self).__init__()\n",
        "\n",
        "    self.hidden_dim = hidden_dim\n",
        "\n",
        "    self.user_alpha = Embedding(len(userset), self.hidden_dim)\n",
        "    self.item_alpha = Embedding(len(itemset), self.hidden_dim)\n",
        "    self.user_beta = Embedding(len(userset), 1)\n",
        "    self.item_beta = Embedding(len(itemset), 1)\n",
        "\n",
        "    init.uniform_(self.user_alpha.weight, 0, 0.01)\n",
        "    init.uniform_(self.user_beta.weight, 0, 0.01)\n",
        "    init.uniform_(self.item_alpha.weight, 0, 0.01)\n",
        "    init.uniform_(self.item_beta.weight, 0, 0.01)\n",
        "\n",
        "    self.user_set = list(userset)\n",
        "    self.item_set = list(itemset)\n",
        "\n",
        "    self.user_idx = {user : ind for ind, user in enumerate(userset)}\n",
        "    self.item_idx = {item : ind for ind , item in enumerate(itemset)}\n",
        "\n",
        "  def get_user_idx(self, users):\n",
        "    return torch.tensor([self.user_idx[user] for user in users]).long().to(device)\n",
        "\n",
        "  def get_item_idx(self, items):\n",
        "    return torch.tensor([self.item_idx[item] for item in items]).long().to(device)\n",
        "  \n",
        "\n",
        "  def forward(self, users, items):\n",
        "\n",
        "    batchsize = len(users)\n",
        "    user_alpha = self.user_alpha(self.get_user_idx(users))\n",
        "    user_beta = self.user_beta(self.get_user_idx(users))\n",
        "    item_alpha = self.item_alpha(self.get_item_idx(items))\n",
        "    item_beta = self.item_beta(self.get_item_idx(items))\n",
        "\n",
        "    out = user_beta.view(batchsize) + item_beta.view(batchsize) \\\n",
        "          + bmm(user_alpha.view(batchsize,1,self.hidden_dim),\n",
        "                item_alpha.view(batchsize,self.hidden_dim,1)).view(batchsize)\n",
        "\n",
        "    return out\n",
        "  \n",
        "  def fit(self, users, items):\n",
        "\n",
        "    batchsize = len(users)\n",
        "    user_alpha = self.user_alpha(self.get_user_idx(users))\n",
        "    user_beta = self.user_beta(self.get_user_idx(users))\n",
        "    item_alpha = self.item_alpha(self.get_item_idx(items))\n",
        "    item_beta = self.item_beta(self.get_item_idx(items))\n",
        "\n",
        "    out = user_beta.view(batchsize) + item_beta.view(batchsize) \\\n",
        "          + bmm(user_alpha.view(batchsize,1,self.hidden_dim),\n",
        "                item_alpha.view(batchsize,self.hidden_dim,1)).view(batchsize)\n",
        "\n",
        "    outweight = user_alpha.norm(p=2) + user_beta.norm(p=2) + item_alpha.norm(p=2) + item_beta.norm(p=2)\n",
        "\n",
        "    return out, outweight"
      ],
      "execution_count": 0,
      "outputs": []
    },
    {
      "cell_type": "code",
      "metadata": {
        "id": "Wc2F6l9oURQm",
        "colab_type": "code",
        "colab": {}
      },
      "source": [
        "class VTBPR(BPR):\n",
        "\n",
        "  def __init__(self, userset, itemset, hidden_dim=512):\n",
        "    super(VTBPR, self).__init__(userset, itemset, hidden_dim=hidden_dim)\n",
        "\n",
        "    self.user_visembed = Embedding(len(userset), self.hidden_dim)\n",
        "    self.user_textembed = Embedding(len(userset), self.hidden_dim)\n",
        "\n",
        "    init.uniform_(self.user_visembed.weight, 0, 0.01)\n",
        "    init.uniform_(self.user_textembed.weight, 0, 0.01)\n",
        "\n",
        "  def forward(self, users, items, visfeat, textfeat):\n",
        "    batchsize = len(users)\n",
        "    bpr = BPR.forward(self, users, items)\n",
        "    theta_user_vis = self.user_visembed(self.get_user_idx(users))\n",
        "    theta_user_text = self.user_textembed(self.get_user_idx(users))\n",
        "\n",
        "    out1 = bmm(theta_user_vis.view(batchsize,1,self.hidden_dim),\n",
        "               visfeat.view(batchsize,self.hidden_dim,1)).view(batchsize)\n",
        "    out2 = bmm(theta_user_text.view(batchsize,1,self.hidden_dim),\n",
        "               textfeat.view(batchsize,self.hidden_dim,1)).view(batchsize)\n",
        "\n",
        "    return bpr + out1 + out2\n",
        "  \n",
        "  def fit(self, users, items, visfeat, textfeat):\n",
        "    batchsize = len(users)\n",
        "    bpr, bprweight = BPR.fit(self, users, items)\n",
        "    theta_user_vis = self.user_visembed(self.get_user_idx(users))\n",
        "    theta_user_text = self.user_textembed(self.get_user_idx(users))\n",
        "\n",
        "    out1 = bmm(theta_user_vis.view(batchsize,1,self.hidden_dim),\n",
        "               visfeat.view(batchsize,self.hidden_dim,1)).view(batchsize)\n",
        "    out2 = bmm(theta_user_text.view(batchsize,1,self.hidden_dim),\n",
        "               textfeat.view(batchsize,self.hidden_dim,1)).view(batchsize)\n",
        "    \n",
        "    outweight = bprweight + self.user_visembed(self.get_user_idx(set(users))).norm(p=2) \\\n",
        "                          + self.user_textembed(self.get_user_idx(set(users))).norm(p=2)\n",
        "\n",
        "    return bpr + out1 + out2 , outweight"
      ],
      "execution_count": 0,
      "outputs": []
    },
    {
      "cell_type": "code",
      "metadata": {
        "id": "PBQwPnIqes7e",
        "colab_type": "code",
        "colab": {}
      },
      "source": [
        "class TextCNN(Module):\n",
        "  def __init__(self, sent_size = (83,300), output_size = 512):\n",
        "    super(TextCNN,self).__init__()\n",
        "    self.max_length , self.wordvec_size = sent_size\n",
        "\n",
        "    self.textcnn = ModuleList([Sequential(\n",
        "        Conv2d(in_channels=1,out_channels=100,kernel_size=(2,self.wordvec_size),stride=1),\n",
        "        Sigmoid(),\n",
        "        MaxPool2d(kernel_size=(self.max_length-1,1),stride=1)),\n",
        "        Sequential(\n",
        "        Conv2d(in_channels=1,out_channels=100,kernel_size=(3,self.wordvec_size),stride=1),\n",
        "        Sigmoid(),\n",
        "        MaxPool2d(kernel_size=(self.max_length-2,1),stride=1)),\n",
        "        Sequential(\n",
        "        Conv2d(in_channels=1,out_channels=100,kernel_size=(4,self.wordvec_size),stride=1),\n",
        "        Sigmoid(),\n",
        "        MaxPool2d(kernel_size=(self.max_length-3,1),stride=1)),\n",
        "        Sequential(\n",
        "        Conv2d(in_channels=1,out_channels=100,kernel_size=(5,self.wordvec_size),stride=1),\n",
        "        Sigmoid(),\n",
        "        MaxPool2d(kernel_size=(self.max_length-4,1),stride=1))\n",
        "        ])\n",
        "    \n",
        "    self.textnn = Sequential(\n",
        "        Linear(in_features=400,out_features=output_size),\n",
        "        Sigmoid()\n",
        "    )\n",
        "\n",
        "  def forward(self, input):\n",
        "\n",
        "    conv = cat([conv2d(input).squeeze_(-1).squeeze_(-1) for conv2d in self.textcnn], 1)\n",
        "    output = self.textnn(conv)\n",
        "    return output"
      ],
      "execution_count": 0,
      "outputs": []
    },
    {
      "cell_type": "code",
      "metadata": {
        "id": "D6t3lqtCjTMW",
        "colab_type": "code",
        "colab": {}
      },
      "source": [
        "class PAIBPR(Module):\n",
        "\n",
        "  def __init__(self, userset, itemset, embedding_weight, maxsentlen = 83, textfeat_dim = 300, visfeat_dim = 2048, hidden_dim = 512, uniform = 0.5):\n",
        "    super(PAIBPR, self).__init__()\n",
        "\n",
        "    self.uniform = uniform\n",
        "    self.hidden_dim = hidden_dim\n",
        "    self.maxsentlen = maxsentlen\n",
        "    self.epoch = 0\n",
        "\n",
        "    self.visencoder = Sequential(\n",
        "        Linear(in_features=visfeat_dim,out_features=hidden_dim),\n",
        "        Sigmoid()\n",
        "    )\n",
        "\n",
        "    self.visencoder[0].apply(lambda module: init.uniform_(module.weight.data,0,0.001))\n",
        "    self.visencoder[0].apply(lambda module: init.uniform_(module.bias.data,0,0.001))\n",
        "\n",
        "    self.text_embedding = Embedding.from_pretrained(embedding_weight, freeze=False)\n",
        "\n",
        "    self.vtbpr = VTBPR(userset=userset, itemset=itemset, hidden_dim= self.hidden_dim)\n",
        "    self.textcnn = TextCNN(sent_size=(self.maxsentlen,textfeat_dim), output_size=self.hidden_dim)\n",
        "\n",
        "  def forward(self, batch, visfeat, textfeat):\n",
        "\n",
        "    Us = [str(int(pair[0])) for pair in batch]\n",
        "    Is = [str(int(pair[1])) for pair in batch]\n",
        "    Js = [str(int(pair[2])) for pair in batch]\n",
        "    Ks = [str(int(pair[3])) for pair in batch]\n",
        "\n",
        "    with torch.cuda.device(torch.cuda.current_device()):\n",
        "      stream1 = torch.cuda.Stream()\n",
        "      stream2 = torch.cuda.Stream()\n",
        "\n",
        "      Ivis = self.visencoder(cat([visfeat[I].unsqueeze(0) for I in Is], 0).to(device))\n",
        "      with torch.cuda.stream(stream1):\n",
        "        Jvis = self.visencoder(cat([visfeat[J].unsqueeze(0) for J in Js], 0).to(device))\n",
        "      with torch.cuda.stream(stream2):\n",
        "        Kvis = self.visencoder(cat([visfeat[K].unsqueeze(0) for K in Ks], 0).to(device))\n",
        "\n",
        "      Itext = self.textcnn(self.text_embedding(cat([textfeat[I].unsqueeze(0) for I in Is], 0).to(device)).unsqueeze_(1))\n",
        "      with torch.cuda.stream(stream1):\n",
        "        Jtext = self.textcnn(self.text_embedding(cat([textfeat[J].unsqueeze(0) for J in Js], 0).to(device)).unsqueeze_(1))\n",
        "      with torch.cuda.stream(stream2):\n",
        "        Ktext = self.textcnn(self.text_embedding(cat([textfeat[K].unsqueeze(0) for K in Ks], 0).to(device)).unsqueeze_(1))\n",
        "      \n",
        "    torch.cuda.synchronize()\n",
        "\n",
        "    stream1 = torch.cuda.Stream()\n",
        "    stream2 = torch.cuda.Stream()\n",
        "\n",
        "    vis_ij = bmm(Ivis.unsqueeze(1), Jvis.unsqueeze(-1)).squeeze_(-1).squeeze_(-1)\n",
        "    with torch.cuda.stream(stream1):\n",
        "      text_ij = bmm(Itext.unsqueeze(1), Jtext.unsqueeze(-1)).squeeze_(-1).squeeze_(-1)\n",
        "      cuj = self.vtbpr(Us, Js, Jvis, Jtext)\n",
        "    \n",
        "    vis_ik = bmm(Ivis.unsqueeze(1), Kvis.unsqueeze(-1)).squeeze_(-1).squeeze_(-1)\n",
        "    with torch.cuda.stream(stream2):\n",
        "      text_ik = bmm(Itext.unsqueeze(1), Ktext.unsqueeze(-1)).squeeze_(-1).squeeze_(-1)\n",
        "      cuk = self.vtbpr(Us, Ks, Kvis, Ktext)\n",
        "\n",
        "    torch.cuda.synchronize()\n",
        "\n",
        "    p_ij = 0.5 * vis_ij + 0.5 * text_ij\n",
        "    p_ik = 0.5 * vis_ik + 0.5 * text_ik\n",
        "\n",
        "    return self.uniform * p_ij + (1 - self.uniform) * cuj - ( self.uniform * p_ik + (1 - self.uniform) * cuk )\n",
        "\n",
        "\n",
        "  def fit(self, batch, visfeat, textfeat):\n",
        "\n",
        "    Us = [str(int(pair[0])) for pair in batch]\n",
        "    Is = [str(int(pair[1])) for pair in batch]\n",
        "    Js = [str(int(pair[2])) for pair in batch]\n",
        "    Ks = [str(int(pair[3])) for pair in batch]\n",
        "\n",
        "    with torch.cuda.device(torch.cuda.current_device()):\n",
        "      stream1 = torch.cuda.Stream()\n",
        "      stream2 = torch.cuda.Stream()\n",
        "\n",
        "      Ivis = self.visencoder(cat([visfeat[I].unsqueeze(0) for I in Is], 0).to(device))\n",
        "      with torch.cuda.stream(stream1):\n",
        "        Jvis = self.visencoder(cat([visfeat[J].unsqueeze(0) for J in Js], 0).to(device))\n",
        "      with torch.cuda.stream(stream2):\n",
        "        Kvis = self.visencoder(cat([visfeat[K].unsqueeze(0) for K in Ks], 0).to(device))\n",
        "\n",
        "      Itext = self.textcnn(self.text_embedding(cat([textfeat[I].unsqueeze(0) for I in Is], 0).to(device)).unsqueeze_(1))\n",
        "      with torch.cuda.stream(stream1):\n",
        "        Jtext = self.textcnn(self.text_embedding(cat([textfeat[J].unsqueeze(0) for J in Js], 0).to(device)).unsqueeze_(1))\n",
        "      with torch.cuda.stream(stream2):\n",
        "        Ktext = self.textcnn(self.text_embedding(cat([textfeat[K].unsqueeze(0) for K in Ks], 0).to(device)).unsqueeze_(1))\n",
        "      \n",
        "    torch.cuda.synchronize()\n",
        "\n",
        "    stream1 = torch.cuda.Stream()\n",
        "    stream2 = torch.cuda.Stream()\n",
        "\n",
        "    vis_ij = bmm(Ivis.unsqueeze(1), Jvis.unsqueeze(-1)).squeeze_(-1).squeeze_(-1)\n",
        "    with torch.cuda.stream(stream1):\n",
        "      text_ij = bmm(Itext.unsqueeze(1), Jtext.unsqueeze(-1)).squeeze_(-1).squeeze_(-1)\n",
        "      cuj, cujweight = self.vtbpr.fit(Us, Js, Jvis, Jtext)\n",
        "    \n",
        "    vis_ik = bmm(Ivis.unsqueeze(1), Kvis.unsqueeze(-1)).squeeze_(-1).squeeze_(-1)\n",
        "    with torch.cuda.stream(stream2):\n",
        "      text_ik = bmm(Itext.unsqueeze(1), Ktext.unsqueeze(-1)).squeeze_(-1).squeeze_(-1)\n",
        "      cuk, cukweight = self.vtbpr.fit(Us, Ks, Kvis, Ktext)\n",
        "\n",
        "    torch.cuda.synchronize()\n",
        "\n",
        "    p_ij = 0.5 * vis_ij + 0.5 * text_ij\n",
        "    p_ik = 0.5 * vis_ik + 0.5 * text_ik\n",
        "\n",
        "    output = self.uniform * p_ij + (1 - self.uniform) * cuj - ( self.uniform * p_ik + (1 - self.uniform) * cuk )\n",
        "\n",
        "    cujkweight = self.vtbpr.user_alpha(self.vtbpr.get_user_idx(set(Us))).norm(p=2) + self.vtbpr.item_alpha(self.vtbpr.get_item_idx(set(Js+Ks))).norm(p=2) \\\n",
        "              + self.vtbpr.user_visembed(self.vtbpr.get_user_idx(set(Us))).norm(p=2) + self.vtbpr.user_textembed(self.vtbpr.get_user_idx(set(Us))).norm(p=2)\n",
        "    \n",
        "    outweight = cujkweight + self.text_embedding(cat([textfeat[I].unsqueeze(0) for I in set(Is+Js+Ks)], 0).cuda()).norm(p=2)\n",
        "\n",
        "    return  output, outweight\n"
      ],
      "execution_count": 0,
      "outputs": []
    },
    {
      "cell_type": "code",
      "metadata": {
        "id": "ozyeOpSiu1sH",
        "colab_type": "code",
        "colab": {}
      },
      "source": [
        "def load_csv_data(train_data_path):\n",
        "    result = []\n",
        "    with open(train_data_path,'r') as fp:\n",
        "        for line in fp:\n",
        "            t = line.strip().split(',')\n",
        "            t = [int(i) for i in t]\n",
        "            result.append(t)\n",
        "    return result"
      ],
      "execution_count": 0,
      "outputs": []
    },
    {
      "cell_type": "code",
      "metadata": {
        "id": "21jm1-6xvZIz",
        "colab_type": "code",
        "colab": {}
      },
      "source": [
        "def load_embedding_weight(device):\n",
        "    jap2vec = torch.load(config['textembedmat'])\n",
        "    embeding_weight = []\n",
        "    for jap, vec in jap2vec.items():\n",
        "        embeding_weight.append(vec.tolist())\n",
        "    embeding_weight.append(torch.zeros(300))\n",
        "    embedding_weight = torch.tensor(embeding_weight, device=device)\n",
        "    return embedding_weight"
      ],
      "execution_count": 0,
      "outputs": []
    },
    {
      "cell_type": "code",
      "metadata": {
        "id": "-7Ck-5TKvfgb",
        "colab_type": "code",
        "colab": {}
      },
      "source": [
        "def train(model, traindata, visfeat, textfeat, optim):\n",
        "\n",
        "  model.train()\n",
        "  trainloss = 0\n",
        "  for i, batch in enumerate(traindata):\n",
        "    output, outputweight = model.fit(batch[0], visfeat, textfeat)\n",
        "    loss = (-logsigmoid(output)).sum() + 0.001*outputweight\n",
        "    trainloss += loss\n",
        "    optim.zero_grad()\n",
        "    loss.backward()\n",
        "    optim.step()\n",
        "  print('Training Loss : ', trainloss.item()/len(traindata))"
      ],
      "execution_count": 0,
      "outputs": []
    },
    {
      "cell_type": "code",
      "metadata": {
        "id": "mAjq-mkHxRrj",
        "colab_type": "code",
        "colab": {}
      },
      "source": [
        "def evaluate(model, test_csv, visfeat, textfeat):\n",
        "\n",
        "  model.eval()\n",
        "  testdata = load_csv_data(test_csv)\n",
        "  pos = 0\n",
        "  batchs = 100\n",
        "  for i in range(0, len(testdata), batchs):\n",
        "    data = testdata[i:i+batchs] if i+batchs <=len(testdata) else testdata[i:]\n",
        "    output = model.forward(data, visfeat, textfeat)  \n",
        "    pos += float(torch.sum(output.ge(0)))\n",
        "  auc = pos/len(testdata)\n",
        "  print( \"Testing....    Epoch : \", model.epoch,' AUC: ', auc )\n",
        "  return auc\n"
      ],
      "execution_count": 0,
      "outputs": []
    },
    {
      "cell_type": "code",
      "metadata": {
        "id": "FC50zn-4yCpA",
        "colab_type": "code",
        "colab": {}
      },
      "source": [
        ""
      ],
      "execution_count": 0,
      "outputs": []
    },
    {
      "cell_type": "code",
      "metadata": {
        "id": "3hiUyse3D91x",
        "colab_type": "code",
        "outputId": "46ae51fd-2af3-4c3d-b9f4-5933f8093113",
        "colab": {
          "base_uri": "https://localhost:8080/",
          "height": 34
        }
      },
      "source": [
        "hidden_dim=512\n",
        "batch_size=256\n",
        "uniform = 0.05\n",
        "epochs=60\n",
        "print('loading top&bottom features')\n",
        "train_data = load_csv_data(config['traindata'])\n",
        "visfeat = torch.load(config['visfeat'],map_location= lambda storage, loc: storage.cuda())\n",
        "textfeat = torch.load(config['textfeat'],map_location=lambda storage, loc: storage.cuda())\n",
        "\n",
        "\n",
        "embedding_weight = load_embedding_weight(torch.cuda.current_device())\n",
        "item_set= set()\n",
        "user_set = set([str(i[0]) for i in train_data])\n",
        "for i in train_data:\n",
        "  item_set.add(str(int(i[2])))\n",
        "  item_set.add(str(int(i[3])))"
      ],
      "execution_count": 0,
      "outputs": [
        {
          "output_type": "stream",
          "text": [
            "loading top&bottom features\n"
          ],
          "name": "stdout"
        }
      ]
    },
    {
      "cell_type": "code",
      "metadata": {
        "id": "DBHb5qxEGBd5",
        "colab_type": "code",
        "colab": {}
      },
      "source": [
        "model = PAIBPR(userset = user_set, itemset = item_set, embedding_weight=embedding_weight, uniform = uniform).to(torch.cuda.current_device())\n",
        "\n",
        "optim = Adam([\n",
        "    {\n",
        "        'params' : model.parameters(),\n",
        "        'lr' : 0.001,\n",
        "        'weight_decay' : 0.00012  #0.0002 #\n",
        "    }\n",
        "    ])\n",
        "  \n",
        "train_data = TensorDataset(torch.tensor(train_data, dtype=torch.int))\n",
        "train_loader = DataLoader(train_data, batch_size= batch_size,shuffle=True, drop_last=True)"
      ],
      "execution_count": 0,
      "outputs": []
    },
    {
      "cell_type": "code",
      "metadata": {
        "id": "96EbJGVWEMNc",
        "colab_type": "code",
        "outputId": "00daf3ea-2240-4a96-820a-a99146630611",
        "colab": {
          "base_uri": "https://localhost:8080/",
          "height": 1000
        }
      },
      "source": [
        "aucs = []     # for plot\n",
        "for i in range(epochs): \n",
        "  train(model, train_loader, visfeat, textfeat, optim)\n",
        "  model.epoch+=1\n",
        "  testauc = evaluate(model, config['testdata'], visfeat, textfeat)\n",
        "  aucs.append(testauc)"
      ],
      "execution_count": 0,
      "outputs": [
        {
          "output_type": "stream",
          "text": [
            "Training Loss :  161.5860408399471\n",
            "Testing....    Epoch :  1  AUC:  0.6941329292054558\n",
            "Training Loss :  96.83493510251323\n",
            "Testing....    Epoch :  2  AUC:  0.7656202641264342\n",
            "Training Loss :  34.05472366898148\n",
            "Testing....    Epoch :  3  AUC:  0.7857111928988959\n",
            "Training Loss :  9.99207447193287\n",
            "Testing....    Epoch :  4  AUC:  0.7935483870967742\n",
            "Training Loss :  4.886344142691799\n",
            "Testing....    Epoch :  5  AUC:  0.7992639099372159\n",
            "Training Loss :  3.4934443721064814\n",
            "Testing....    Epoch :  6  AUC:  0.8004329941545789\n",
            "Training Loss :  2.942885948867394\n",
            "Testing....    Epoch :  7  AUC:  0.8050660316085733\n",
            "Training Loss :  2.6901978184937168\n",
            "Testing....    Epoch :  8  AUC:  0.8076639965360468\n",
            "Training Loss :  2.5802964306382274\n",
            "Testing....    Epoch :  9  AUC:  0.811560943927257\n",
            "Training Loss :  2.7393240146536044\n",
            "Testing....    Epoch :  10  AUC:  0.8155011907339251\n",
            "Training Loss :  2.552433558872768\n",
            "Testing....    Epoch :  11  AUC:  0.8123836328209569\n",
            "Training Loss :  2.5702232078269676\n",
            "Testing....    Epoch :  12  AUC:  0.8213899112361983\n",
            "Training Loss :  2.4406859382750494\n",
            "Testing....    Epoch :  13  AUC:  0.8243775709027928\n",
            "Training Loss :  2.456638073795056\n",
            "Testing....    Epoch :  14  AUC:  0.8198311322797143\n",
            "Training Loss :  2.4833307821283896\n",
            "Testing....    Epoch :  15  AUC:  0.8295302013422818\n",
            "Training Loss :  2.4869602748325894\n",
            "Testing....    Epoch :  16  AUC:  0.8303095908205239\n",
            "Training Loss :  2.5757296123201887\n",
            "Testing....    Epoch :  17  AUC:  0.8316085732842606\n",
            "Training Loss :  2.5135864580749834\n",
            "Testing....    Epoch :  18  AUC:  0.8316951721151764\n",
            "Training Loss :  2.5601130086908896\n",
            "Testing....    Epoch :  19  AUC:  0.8341199393808184\n",
            "Training Loss :  2.611191199570106\n",
            "Testing....    Epoch :  20  AUC:  0.8311755791296818\n",
            "Training Loss :  2.686838624338624\n",
            "Testing....    Epoch :  21  AUC:  0.8350725265208919\n",
            "Training Loss :  2.648379371279762\n",
            "Testing....    Epoch :  22  AUC:  0.8281013206321715\n",
            "Training Loss :  2.692243626508763\n",
            "Testing....    Epoch :  23  AUC:  0.8357653171682182\n",
            "Training Loss :  2.726053227823247\n",
            "Testing....    Epoch :  24  AUC:  0.8299198960814029\n",
            "Training Loss :  2.7872001203910384\n",
            "Testing....    Epoch :  25  AUC:  0.8353323230136394\n",
            "Training Loss :  2.763888888888889\n",
            "Testing....    Epoch :  26  AUC:  0.8352457241827236\n",
            "Training Loss :  2.803098648313492\n",
            "Testing....    Epoch :  27  AUC:  0.8321714656852133\n",
            "Training Loss :  2.8374685459036044\n",
            "Testing....    Epoch :  28  AUC:  0.8352890235981815\n",
            "Training Loss :  2.893850498098545\n",
            "Testing....    Epoch :  29  AUC:  0.83347044814895\n",
            "Training Loss :  2.92337730448082\n",
            "Testing....    Epoch :  30  AUC:  0.8328642563325395\n",
            "Training Loss :  2.9306711671213623\n",
            "Testing....    Epoch :  31  AUC:  0.8322147651006712\n",
            "Training Loss :  2.997955806671627\n",
            "Testing....    Epoch :  32  AUC:  0.8311322797142239\n",
            "Training Loss :  2.996455439814815\n",
            "Testing....    Epoch :  33  AUC:  0.8320415674388396\n",
            "Training Loss :  3.0264724650710977\n",
            "Testing....    Epoch :  34  AUC:  0.8257631521974453\n",
            "Training Loss :  3.0724574497767856\n",
            "Testing....    Epoch :  35  AUC:  0.830655986144187\n",
            "Training Loss :  3.103166529741237\n",
            "Testing....    Epoch :  36  AUC:  0.8268889369993505\n",
            "Training Loss :  3.0953814794146823\n",
            "Testing....    Epoch :  37  AUC:  0.827884823554882\n",
            "Training Loss :  3.1339770120287698\n",
            "Testing....    Epoch :  38  AUC:  0.8276683264775926\n",
            "Training Loss :  3.1970999581473216\n",
            "Testing....    Epoch :  39  AUC:  0.8266291405066032\n",
            "Training Loss :  3.2104676261780756\n",
            "Testing....    Epoch :  40  AUC:  0.8221260012989825\n",
            "Training Loss :  3.211176150690311\n",
            "Testing....    Epoch :  41  AUC:  0.8232084866854298\n",
            "Training Loss :  3.237644740513393\n",
            "Testing....    Epoch :  42  AUC:  0.8189218445550985\n",
            "Training Loss :  3.300063683242394\n",
            "Testing....    Epoch :  43  AUC:  0.823121887854514\n",
            "Training Loss :  3.3099381381241733\n",
            "Testing....    Epoch :  44  AUC:  0.8181424550768565\n",
            "Training Loss :  3.318493393993882\n",
            "Testing....    Epoch :  45  AUC:  0.820697120588872\n",
            "Training Loss :  3.3622817589492393\n",
            "Testing....    Epoch :  46  AUC:  0.817925957999567\n",
            "Training Loss :  3.3668690837880293\n",
            "Testing....    Epoch :  47  AUC:  0.8188785451396406\n",
            "Training Loss :  3.4190996765459656\n",
            "Testing....    Epoch :  48  AUC:  0.8200909287724616\n",
            "Training Loss :  3.432059474723049\n",
            "Testing....    Epoch :  49  AUC:  0.8206105217579562\n",
            "Training Loss :  3.4426492358010914\n",
            "Testing....    Epoch :  50  AUC:  0.8157609872266725\n"
          ],
          "name": "stdout"
        },
        {
          "output_type": "error",
          "ename": "KeyboardInterrupt",
          "evalue": "ignored",
          "traceback": [
            "\u001b[0;31m---------------------------------------------------------------------------\u001b[0m",
            "\u001b[0;31mKeyboardInterrupt\u001b[0m                         Traceback (most recent call last)",
            "\u001b[0;32m<ipython-input-13-8a40f24721b0>\u001b[0m in \u001b[0;36m<module>\u001b[0;34m()\u001b[0m\n\u001b[1;32m      1\u001b[0m \u001b[0maucs\u001b[0m \u001b[0;34m=\u001b[0m \u001b[0;34m[\u001b[0m\u001b[0;34m]\u001b[0m     \u001b[0;31m# for plot\u001b[0m\u001b[0;34m\u001b[0m\u001b[0;34m\u001b[0m\u001b[0m\n\u001b[1;32m      2\u001b[0m \u001b[0;32mfor\u001b[0m \u001b[0mi\u001b[0m \u001b[0;32min\u001b[0m \u001b[0mrange\u001b[0m\u001b[0;34m(\u001b[0m\u001b[0mepochs\u001b[0m\u001b[0;34m)\u001b[0m\u001b[0;34m:\u001b[0m\u001b[0;34m\u001b[0m\u001b[0;34m\u001b[0m\u001b[0m\n\u001b[0;32m----> 3\u001b[0;31m   \u001b[0mtrain\u001b[0m\u001b[0;34m(\u001b[0m\u001b[0mmodel\u001b[0m\u001b[0;34m,\u001b[0m \u001b[0mtrain_loader\u001b[0m\u001b[0;34m,\u001b[0m \u001b[0mvisfeat\u001b[0m\u001b[0;34m,\u001b[0m \u001b[0mtextfeat\u001b[0m\u001b[0;34m,\u001b[0m \u001b[0moptim\u001b[0m\u001b[0;34m)\u001b[0m\u001b[0;34m\u001b[0m\u001b[0;34m\u001b[0m\u001b[0m\n\u001b[0m\u001b[1;32m      4\u001b[0m   \u001b[0mmodel\u001b[0m\u001b[0;34m.\u001b[0m\u001b[0mepoch\u001b[0m\u001b[0;34m+=\u001b[0m\u001b[0;36m1\u001b[0m\u001b[0;34m\u001b[0m\u001b[0;34m\u001b[0m\u001b[0m\n\u001b[1;32m      5\u001b[0m   \u001b[0mtestauc\u001b[0m \u001b[0;34m=\u001b[0m \u001b[0mevaluate\u001b[0m\u001b[0;34m(\u001b[0m\u001b[0mmodel\u001b[0m\u001b[0;34m,\u001b[0m \u001b[0mconfig\u001b[0m\u001b[0;34m[\u001b[0m\u001b[0;34m'testdata'\u001b[0m\u001b[0;34m]\u001b[0m\u001b[0;34m,\u001b[0m \u001b[0mvisfeat\u001b[0m\u001b[0;34m,\u001b[0m \u001b[0mtextfeat\u001b[0m\u001b[0;34m)\u001b[0m\u001b[0;34m\u001b[0m\u001b[0;34m\u001b[0m\u001b[0m\n",
            "\u001b[0;32m<ipython-input-9-e987dce37013>\u001b[0m in \u001b[0;36mtrain\u001b[0;34m(model, traindata, visfeat, textfeat, optim)\u001b[0m\n\u001b[1;32m      8\u001b[0m     \u001b[0mtrainloss\u001b[0m \u001b[0;34m+=\u001b[0m \u001b[0mloss\u001b[0m\u001b[0;34m\u001b[0m\u001b[0;34m\u001b[0m\u001b[0m\n\u001b[1;32m      9\u001b[0m     \u001b[0moptim\u001b[0m\u001b[0;34m.\u001b[0m\u001b[0mzero_grad\u001b[0m\u001b[0;34m(\u001b[0m\u001b[0;34m)\u001b[0m\u001b[0;34m\u001b[0m\u001b[0;34m\u001b[0m\u001b[0m\n\u001b[0;32m---> 10\u001b[0;31m     \u001b[0mloss\u001b[0m\u001b[0;34m.\u001b[0m\u001b[0mbackward\u001b[0m\u001b[0;34m(\u001b[0m\u001b[0;34m)\u001b[0m\u001b[0;34m\u001b[0m\u001b[0;34m\u001b[0m\u001b[0m\n\u001b[0m\u001b[1;32m     11\u001b[0m     \u001b[0moptim\u001b[0m\u001b[0;34m.\u001b[0m\u001b[0mstep\u001b[0m\u001b[0;34m(\u001b[0m\u001b[0;34m)\u001b[0m\u001b[0;34m\u001b[0m\u001b[0;34m\u001b[0m\u001b[0m\n\u001b[1;32m     12\u001b[0m   \u001b[0mprint\u001b[0m\u001b[0;34m(\u001b[0m\u001b[0;34m'Training Loss : '\u001b[0m\u001b[0;34m,\u001b[0m \u001b[0mtrainloss\u001b[0m\u001b[0;34m.\u001b[0m\u001b[0mitem\u001b[0m\u001b[0;34m(\u001b[0m\u001b[0;34m)\u001b[0m\u001b[0;34m/\u001b[0m\u001b[0mlen\u001b[0m\u001b[0;34m(\u001b[0m\u001b[0mtraindata\u001b[0m\u001b[0;34m)\u001b[0m\u001b[0;34m)\u001b[0m\u001b[0;34m\u001b[0m\u001b[0;34m\u001b[0m\u001b[0m\n",
            "\u001b[0;32m/usr/local/lib/python3.6/dist-packages/torch/tensor.py\u001b[0m in \u001b[0;36mbackward\u001b[0;34m(self, gradient, retain_graph, create_graph)\u001b[0m\n\u001b[1;32m    196\u001b[0m                 \u001b[0mproducts\u001b[0m\u001b[0;34m.\u001b[0m \u001b[0mDefaults\u001b[0m \u001b[0mto\u001b[0m\u001b[0;31m \u001b[0m\u001b[0;31m`\u001b[0m\u001b[0;31m`\u001b[0m\u001b[0;32mFalse\u001b[0m\u001b[0;31m`\u001b[0m\u001b[0;31m`\u001b[0m\u001b[0;34m.\u001b[0m\u001b[0;34m\u001b[0m\u001b[0;34m\u001b[0m\u001b[0m\n\u001b[1;32m    197\u001b[0m         \"\"\"\n\u001b[0;32m--> 198\u001b[0;31m         \u001b[0mtorch\u001b[0m\u001b[0;34m.\u001b[0m\u001b[0mautograd\u001b[0m\u001b[0;34m.\u001b[0m\u001b[0mbackward\u001b[0m\u001b[0;34m(\u001b[0m\u001b[0mself\u001b[0m\u001b[0;34m,\u001b[0m \u001b[0mgradient\u001b[0m\u001b[0;34m,\u001b[0m \u001b[0mretain_graph\u001b[0m\u001b[0;34m,\u001b[0m \u001b[0mcreate_graph\u001b[0m\u001b[0;34m)\u001b[0m\u001b[0;34m\u001b[0m\u001b[0;34m\u001b[0m\u001b[0m\n\u001b[0m\u001b[1;32m    199\u001b[0m \u001b[0;34m\u001b[0m\u001b[0m\n\u001b[1;32m    200\u001b[0m     \u001b[0;32mdef\u001b[0m \u001b[0mregister_hook\u001b[0m\u001b[0;34m(\u001b[0m\u001b[0mself\u001b[0m\u001b[0;34m,\u001b[0m \u001b[0mhook\u001b[0m\u001b[0;34m)\u001b[0m\u001b[0;34m:\u001b[0m\u001b[0;34m\u001b[0m\u001b[0;34m\u001b[0m\u001b[0m\n",
            "\u001b[0;32m/usr/local/lib/python3.6/dist-packages/torch/autograd/__init__.py\u001b[0m in \u001b[0;36mbackward\u001b[0;34m(tensors, grad_tensors, retain_graph, create_graph, grad_variables)\u001b[0m\n\u001b[1;32m     98\u001b[0m     Variable._execution_engine.run_backward(\n\u001b[1;32m     99\u001b[0m         \u001b[0mtensors\u001b[0m\u001b[0;34m,\u001b[0m \u001b[0mgrad_tensors\u001b[0m\u001b[0;34m,\u001b[0m \u001b[0mretain_graph\u001b[0m\u001b[0;34m,\u001b[0m \u001b[0mcreate_graph\u001b[0m\u001b[0;34m,\u001b[0m\u001b[0;34m\u001b[0m\u001b[0;34m\u001b[0m\u001b[0m\n\u001b[0;32m--> 100\u001b[0;31m         allow_unreachable=True)  # allow_unreachable flag\n\u001b[0m\u001b[1;32m    101\u001b[0m \u001b[0;34m\u001b[0m\u001b[0m\n\u001b[1;32m    102\u001b[0m \u001b[0;34m\u001b[0m\u001b[0m\n",
            "\u001b[0;31mKeyboardInterrupt\u001b[0m: "
          ]
        }
      ]
    },
    {
      "cell_type": "code",
      "metadata": {
        "id": "LUrRx2iB3eVn",
        "colab_type": "code",
        "outputId": "1f59cb13-bda0-44a3-b748-f1035d1e5de8",
        "colab": {
          "base_uri": "https://localhost:8080/",
          "height": 299
        }
      },
      "source": [
        "import matplotlib.pyplot as plt\n",
        "plt.style.use('ggplot')\n",
        "plt.xlabel('Epochs')\n",
        "plt.ylabel('TestSet Accuracy')\n",
        "plt.plot(aucs)"
      ],
      "execution_count": 0,
      "outputs": [
        {
          "output_type": "execute_result",
          "data": {
            "text/plain": [
              "[<matplotlib.lines.Line2D at 0x7f0874549278>]"
            ]
          },
          "metadata": {
            "tags": []
          },
          "execution_count": 15
        },
        {
          "output_type": "display_data",
          "data": {
            "image/png": "[encoded data removed]",
            "text/plain": [
              "<Figure size 432x288 with 1 Axes>"
            ]
          },
          "metadata": {
            "tags": []
          }
        }
      ]
    },
    {
      "cell_type": "code",
      "metadata": {
        "id": "xQmUGqYnFY9a",
        "colab_type": "code",
        "colab": {}
      },
      "source": [
        ""
      ],
      "execution_count": 0,
      "outputs": []
    }
  ]
}